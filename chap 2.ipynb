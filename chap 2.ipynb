{
 "cells": [
  {
   "cell_type": "markdown",
   "metadata": {},
   "source": [
    "第二章  python 資料表示與運算"
   ]
  },
  {
   "cell_type": "markdown",
   "metadata": {},
   "source": [
    "#單行註解\n",
    "'''多行註解\n"
   ]
  },
  {
   "cell_type": "markdown",
   "metadata": {},
   "source": [
    "#兩數交換\n"
   ]
  },
  {
   "cell_type": "code",
   "execution_count": 3,
   "metadata": {},
   "outputs": [
    {
     "name": "stdout",
     "output_type": "stream",
     "text": [
      "10\n",
      "1\n"
     ]
    }
   ],
   "source": [
    "x=1 ##設定x等於1\n",
    "y=10  ##設定y等於10\n",
    "x,y =y,x ##交換 xy\n",
    "print(x)##輸出x\n",
    "print(y)##輸出y"
   ]
  },
  {
   "cell_type": "markdown",
   "metadata": {},
   "source": [
    "平行設定"
   ]
  },
  {
   "cell_type": "code",
   "execution_count": 4,
   "metadata": {},
   "outputs": [
    {
     "name": "stdout",
     "output_type": "stream",
     "text": [
      "4 8 125\n"
     ]
    }
   ],
   "source": [
    "x,y,z=3, 4, 5 ##設x=3,y=4,z=5\n",
    "x+=1 ##x=x+1\n",
    "y*=2 ##y=y*2\n",
    "z**=3 ##z=z的三方\n",
    "print(x,y,z) ##輸出x y z"
   ]
  },
  {
   "cell_type": "markdown",
   "metadata": {},
   "source": [
    "##透過海龍攻式算三角形面積"
   ]
  },
  {
   "cell_type": "markdown",
   "metadata": {},
   "source": [
    "法一"
   ]
  },
  {
   "cell_type": "code",
   "execution_count": 5,
   "metadata": {},
   "outputs": [
    {
     "name": "stdout",
     "output_type": "stream",
     "text": [
      "6.0\n"
     ]
    }
   ],
   "source": [
    "import math\n",
    "a,b,c=3,4,5\n",
    "s=(a+b+c)/2\n",
    "area=math.sqrt(s*(s-a)*(s-b)*(s-c))\n",
    "print (area)"
   ]
  },
  {
   "cell_type": "markdown",
   "metadata": {},
   "source": [
    "法二"
   ]
  },
  {
   "cell_type": "code",
   "execution_count": 8,
   "metadata": {},
   "outputs": [
    {
     "name": "stdout",
     "output_type": "stream",
     "text": [
      "6.0\n"
     ]
    }
   ],
   "source": [
    "x,y,z =3, 4, 5\n",
    "s=(x+y+z)/2\n",
    "area=(s*(s-a)*(s-b)*(s-c))**0.5\n",
    "print(area)"
   ]
  },
  {
   "cell_type": "code",
   "execution_count": 9,
   "metadata": {},
   "outputs": [
    {
     "name": "stdout",
     "output_type": "stream",
     "text": [
      "5.333333333333333\n",
      "5\n",
      "1\n"
     ]
    }
   ],
   "source": [
    "x,y=16, 3 ##設x=16,y=3\n",
    "print (x/y) ##x/y(算完)\n",
    "print(x//y) ##x/y(取商)\n",
    "print(x%y) ##x/y(取餘數)"
   ]
  },
  {
   "cell_type": "markdown",
   "metadata": {},
   "source": [
    "計算圓錐體積"
   ]
  },
  {
   "cell_type": "code",
   "execution_count": 2,
   "metadata": {},
   "outputs": [
    {
     "name": "stdout",
     "output_type": "stream",
     "text": [
      "95.42587685278995\n"
     ]
    }
   ],
   "source": [
    "import math\n",
    "x=y=4.5\n",
    "print(x*x*math.pi*y/3)"
   ]
  },
  {
   "cell_type": "code",
   "execution_count": 11,
   "metadata": {},
   "outputs": [
    {
     "name": "stdout",
     "output_type": "stream",
     "text": [
      "True\n"
     ]
    }
   ],
   "source": [
    "print(20==20)"
   ]
  },
  {
   "cell_type": "markdown",
   "metadata": {},
   "source": [
    "關係運算^ and v"
   ]
  },
  {
   "cell_type": "code",
   "execution_count": 13,
   "metadata": {},
   "outputs": [
    {
     "name": "stdout",
     "output_type": "stream",
     "text": [
      "True\n"
     ]
    }
   ],
   "source": [
    "a,b,c =10, 20, 30\n",
    "print(a<=b<=c)"
   ]
  },
  {
   "cell_type": "markdown",
   "metadata": {},
   "source": [
    "平年閏年判定"
   ]
  },
  {
   "cell_type": "code",
   "execution_count": 1,
   "metadata": {},
   "outputs": [
    {
     "name": "stdout",
     "output_type": "stream",
     "text": [
      "True\n"
     ]
    }
   ],
   "source": [
    "y=2020\n",
    "print(y%4==0 and y%100!=0 or y%400==0)"
   ]
  },
  {
   "cell_type": "code",
   "execution_count": 6,
   "metadata": {},
   "outputs": [
    {
     "name": "stdout",
     "output_type": "stream",
     "text": [
      "<class 'float'>\n",
      "123\n"
     ]
    }
   ],
   "source": [
    "x=12\n",
    "y=0.5\n",
    "print(type(x+y))\n",
    "print(\"123\")\n"
   ]
  },
  {
   "cell_type": "code",
   "execution_count": 14,
   "metadata": {},
   "outputs": [
    {
     "name": "stdout",
     "output_type": "stream",
     "text": [
      "The vaule of x is32.5and y is40000\n",
      "The vaule of x is 32.5 and y is 40000\n"
     ]
    }
   ],
   "source": [
    "x=10*3.25\n",
    "y=200**2\n",
    "s='The vaule of x is'+str(x)+'and y is'+str(y)\n",
    "print(s)\n",
    "print('The vaule of x is {} and y is {}'.format(x,y))"
   ]
  },
  {
   "cell_type": "code",
   "execution_count": 1,
   "metadata": {},
   "outputs": [
    {
     "name": "stdout",
     "output_type": "stream",
     "text": [
      "3.141592653589793\n",
      "8.0\n",
      "40.29585234990656\n",
      "5.0\n"
     ]
    }
   ],
   "source": [
    "import math\n",
    "print(math.pi)\n",
    "print(math.pow(2,3))\n",
    "print(8.3*10.58*math.sin(37.0/100*math.pi)/2)\n",
    "print(math.sqrt(25))"
   ]
  },
  {
   "cell_type": "code",
   "execution_count": 15,
   "metadata": {},
   "outputs": [
    {
     "name": "stdout",
     "output_type": "stream",
     "text": [
      "請輸入半徑10\n",
      "314.1592653589793\n"
     ]
    }
   ],
   "source": [
    "import math\n",
    "r=input('請輸入半徑')\n",
    "area=float(r)**2*math.pi\n",
    "print(area)"
   ]
  },
  {
   "cell_type": "code",
   "execution_count": null,
   "metadata": {},
   "outputs": [],
   "source": []
  }
 ],
 "metadata": {
  "kernelspec": {
   "display_name": "Python 3",
   "language": "python",
   "name": "python3"
  },
  "language_info": {
   "codemirror_mode": {
    "name": "ipython",
    "version": 3
   },
   "file_extension": ".py",
   "mimetype": "text/x-python",
   "name": "python",
   "nbconvert_exporter": "python",
   "pygments_lexer": "ipython3",
   "version": "3.7.4"
  }
 },
 "nbformat": 4,
 "nbformat_minor": 2
}
