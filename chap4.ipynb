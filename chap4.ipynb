{
 "cells": [
  {
   "cell_type": "markdown",
   "metadata": {},
   "source": [
    "##chap 4 python 物件"
   ]
  },
  {
   "cell_type": "code",
   "execution_count": 3,
   "metadata": {},
   "outputs": [
    {
     "name": "stdout",
     "output_type": "stream",
     "text": [
      "[]\n",
      "[]\n",
      "['python', 'js', 'SQL']\n",
      "python\n"
     ]
    }
   ],
   "source": [
    "my_list0=[]\n",
    "my_list1=list()\n",
    "my_list2=['python','js','SQL']\n",
    "print(my_list0)\n",
    "print(my_list1)\n",
    "print(my_list2)\n",
    "print(my_list2[0])"
   ]
  },
  {
   "cell_type": "code",
   "execution_count": 4,
   "metadata": {},
   "outputs": [
    {
     "name": "stdout",
     "output_type": "stream",
     "text": [
      "java\n",
      "4\n",
      "6\n"
     ]
    }
   ],
   "source": [
    "my_list2=['python','js','SQL']\n",
    "my_list2.append('java')\n",
    "print(my_list2[3])\n",
    "print(len(my_list2))\n",
    "print(len(my_list2[0]))"
   ]
  },
  {
   "cell_type": "code",
   "execution_count": 7,
   "metadata": {},
   "outputs": [
    {
     "name": "stdout",
     "output_type": "stream",
     "text": [
      "['java', 'python', 'js', 'SQL']\n"
     ]
    }
   ],
   "source": [
    "my_list3=['python','js','SQL']\n",
    "my_list3.insert(0,  'java')\n",
    "print(my_list3)"
   ]
  },
  {
   "cell_type": "code",
   "execution_count": 8,
   "metadata": {},
   "outputs": [
    {
     "name": "stdout",
     "output_type": "stream",
     "text": [
      "['python', 'js', 'SQL']\n",
      "['python', 'js']\n"
     ]
    }
   ],
   "source": [
    "my_list4=['java','python','js','SQL']\n",
    "del my_list4[0]\n",
    "print(my_list4)\n",
    "del my_list4[-1]\n",
    "print(my_list4)"
   ]
  },
  {
   "cell_type": "code",
   "execution_count": 9,
   "metadata": {},
   "outputs": [
    {
     "name": "stdout",
     "output_type": "stream",
     "text": [
      "True\n",
      "False\n"
     ]
    }
   ],
   "source": [
    "my_list5=['java','python','js','SQL']\n",
    "print('java'in my_list5)\n",
    "print('go'in my_list5 )"
   ]
  },
  {
   "cell_type": "code",
   "execution_count": 10,
   "metadata": {},
   "outputs": [
    {
     "name": "stdout",
     "output_type": "stream",
     "text": [
      "[1, 2, 1, 2, 1, 2, 1, 2, 1, 2]\n"
     ]
    }
   ],
   "source": [
    "a=[1,2]\n",
    "print(a*5)"
   ]
  },
  {
   "cell_type": "code",
   "execution_count": 11,
   "metadata": {},
   "outputs": [
    {
     "name": "stdout",
     "output_type": "stream",
     "text": [
      "[1, 2, 3]\n",
      "[1, 3, 5, 7, 9]\n",
      "[1, 2, 3, 4, 5, 6, 7]\n",
      "1\n",
      "7\n",
      "0\n",
      "1\n",
      "[7, 6, 5, 4, 3, 2, 1]\n",
      "[1, 2, 3, 4, 5, 6, 7]\n"
     ]
    }
   ],
   "source": [
    "a=[1,2,3,4,5,6,7,8,9]\n",
    "b=a[0:3]\n",
    "print(b)\n",
    "c=a[0:9:2]\n",
    "print(c)\n",
    "del a[7:9]\n",
    "print(a)\n",
    "print(min(a))\n",
    "print(max(a))\n",
    "print(a.index(1))\n",
    "print(a.count(1))\n",
    "a.reverse()\n",
    "print(a)\n",
    "a.sort()\n",
    "print(a)"
   ]
  },
  {
   "cell_type": "code",
   "execution_count": 12,
   "metadata": {},
   "outputs": [
    {
     "name": "stdout",
     "output_type": "stream",
     "text": [
      "('python', 'js', 'SQL')\n",
      "('go', 'c#', 'vb')\n"
     ]
    }
   ],
   "source": [
    "a_tuple=(\"python\",'js','SQL')\n",
    "b_list=['go','c#','vb']\n",
    "b_tuple=tuple(b_list)\n",
    "print(a_tuple)\n",
    "print(b_tuple)"
   ]
  },
  {
   "cell_type": "code",
   "execution_count": 4,
   "metadata": {},
   "outputs": [
    {
     "name": "stdout",
     "output_type": "stream",
     "text": [
      "python\n",
      "3.7\n",
      "{'name': 'python', 'version': '3.7'}\n",
      "dict_keys(['name', 'version'])\n",
      "dict_values(['python', '3.7'])\n",
      "dict_items([('name', 'python'), ('version', '3.7')])\n",
      "True\n"
     ]
    }
   ],
   "source": [
    "languages={}\n",
    "languages={'name':'python','version':'3.7'}\n",
    "print(languages['name'])\n",
    "print(languages['version'])\n",
    "print(languages)\n",
    "print(languages.keys())\n",
    "print(languages.values())\n",
    "print(languages.items())\n",
    "print('name'in languages)"
   ]
  },
  {
   "cell_type": "code",
   "execution_count": 5,
   "metadata": {},
   "outputs": [
    {
     "name": "stdout",
     "output_type": "stream",
     "text": [
      "{'name': 'python', 'version': '3.7'}\n",
      "python\n",
      "python\n",
      "{'name': 'java', 'version': '3.7'}\n"
     ]
    }
   ],
   "source": [
    "a={'name':'python','version':'3.7'}\n",
    "b=a.copy()\n",
    "print(b)\n",
    "b.clear\n",
    "print(a['name'])\n",
    "print(a.get('name'))\n",
    "a.update({'name':'java'})\n",
    "print(a)"
   ]
  },
  {
   "cell_type": "code",
   "execution_count": 5,
   "metadata": {},
   "outputs": [
    {
     "name": "stdout",
     "output_type": "stream",
     "text": [
      "[0 1 2 3 4 5 6 7 8 9]\n",
      "0\n",
      "[0 1 2 3 4]\n"
     ]
    }
   ],
   "source": [
    "import numpy as np\n",
    "my_array = np.arange(10)\n",
    "print(my_array)\n",
    "print(my_array[0])\n",
    "print(my_array[0:5])"
   ]
  },
  {
   "cell_type": "code",
   "execution_count": 17,
   "metadata": {},
   "outputs": [
    {
     "name": "stdout",
     "output_type": "stream",
     "text": [
      "[0 1 2 3 4 5 6 7 8 9]\n",
      "[[0 1 2 3 4]\n",
      " [5 6 7 8 9]]\n",
      "[[0 1 2 3 4]\n",
      " [5 6 7 8 9]]\n"
     ]
    }
   ],
   "source": [
    "import numpy as np\n",
    "a = np.array([0,1,2,3,4,5,6,7,8,9])\n",
    "print(a)\n",
    "b=np.array([np.arange(0,5),np.arange(5,10)])\n",
    "print(b)\n",
    "c=np.array(np.arange(0,10).reshape((2,5)))\n",
    "print (c)"
   ]
  },
  {
   "cell_type": "code",
   "execution_count": null,
   "metadata": {},
   "outputs": [],
   "source": []
  }
 ],
 "metadata": {
  "kernelspec": {
   "display_name": "Python 3",
   "language": "python",
   "name": "python3"
  },
  "language_info": {
   "codemirror_mode": {
    "name": "ipython",
    "version": 3
   },
   "file_extension": ".py",
   "mimetype": "text/x-python",
   "name": "python",
   "nbconvert_exporter": "python",
   "pygments_lexer": "ipython3",
   "version": "3.7.4"
  }
 },
 "nbformat": 4,
 "nbformat_minor": 2
}
