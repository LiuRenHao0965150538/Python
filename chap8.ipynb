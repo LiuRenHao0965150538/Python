{
 "cells": [
  {
   "cell_type": "code",
   "execution_count": 5,
   "metadata": {},
   "outputs": [
    {
     "name": "stdout",
     "output_type": "stream",
     "text": [
      "請輸入圓的半徑10\n",
      "314.1592653589793\n"
     ]
    }
   ],
   "source": [
    "import math\n",
    "def circlearea(r):\n",
    "    area=int(r)*int(r)*math.pi;\n",
    "    return area\n",
    "print(circlearea(input(\"請輸入圓的半徑\")))"
   ]
  },
  {
   "cell_type": "code",
   "execution_count": null,
   "metadata": {},
   "outputs": [],
   "source": [
    "def circle(r,area=True):\n",
    "    area=int(r)*int(r)*math.pi;\n",
    "    circum=2*int(r)*math.pi\n",
    "    if(area==true):\n",
    "        return area\n",
    "    else:\n",
    "        return circum\n",
    "print(circle(input(\"請輸入圓的半徑\")))\n",
    "print(circle(input(\"請輸入圓的半徑\"),False))"
   ]
  },
  {
   "cell_type": "code",
   "execution_count": 7,
   "metadata": {},
   "outputs": [
    {
     "name": "stdout",
     "output_type": "stream",
     "text": [
      "[5, 8, 13, 32, 34, 43, 49, 51, 63, 73]\n"
     ]
    }
   ],
   "source": [
    "import random\n",
    "def exchangeshort(input_list):\n",
    "    s=input_list\n",
    "    for x in range(0,len(s)-1):\n",
    "        for y in range(x+1,len(s)):\n",
    "            if(s[x]>s[y]):\n",
    "                tmp=s[x]\n",
    "                s[x]=s[y]\n",
    "                s[y]=tmp\n",
    "    return s\n",
    "    \n",
    "my_vector=random.sample(range(0,100),10)\n",
    "print(exchangeshort(my_vector))"
   ]
  },
  {
   "cell_type": "code",
   "execution_count": 9,
   "metadata": {},
   "outputs": [
    {
     "name": "stdout",
     "output_type": "stream",
     "text": [
      "(58, 9, 6, 155)\n"
     ]
    }
   ],
   "source": [
    "def ironmenstats(ironmen_list):\n",
    "    max_ironmen=max(ironmen_list)\n",
    "    min_ironmen=min(ironmen_list)\n",
    "    len_ironmen=len(ironmen_list)\n",
    "    sum_ironmen=sum(ironmen_list)\n",
    "    return max_ironmen,min_ironmen, len_ironmen,sum_ironmen\n",
    "ironmen=[58,18,21,17,32,9]\n",
    "print(ironmenstats(ironmen))"
   ]
  },
  {
   "cell_type": "code",
   "execution_count": 2,
   "metadata": {},
   "outputs": [
    {
     "name": "stdout",
     "output_type": "stream",
     "text": [
      "11\n"
     ]
    }
   ],
   "source": [
    "max=lambda a,b: a if a>b else b\n",
    "print(max(4,11))"
   ]
  },
  {
   "cell_type": "code",
   "execution_count": 3,
   "metadata": {},
   "outputs": [
    {
     "name": "stdout",
     "output_type": "stream",
     "text": [
      "[116, 36, 42, 34, 64, 18]\n"
     ]
    }
   ],
   "source": [
    "print(list(map(lambda x:x*2,[58,18,21,17,32,9])))\n"
   ]
  },
  {
   "cell_type": "code",
   "execution_count": 6,
   "metadata": {},
   "outputs": [
    {
     "name": "stdout",
     "output_type": "stream",
     "text": [
      "4\n",
      "請輸入數字\n",
      "None\n"
     ]
    }
   ],
   "source": [
    "def my_square(a):\n",
    " try:\n",
    "    a=a**2\n",
    "    return a\n",
    " except:\n",
    "    print(\"請輸入數字\")\n",
    "print(my_square(2))\n",
    "print(my_square(\"b\"))"
   ]
  },
  {
   "cell_type": "code",
   "execution_count": 7,
   "metadata": {},
   "outputs": [
    {
     "name": "stdout",
     "output_type": "stream",
     "text": [
      "58 18 21 17 32 9\n"
     ]
    }
   ],
   "source": [
    "def irronmen_print(*args):\n",
    "    for i in args:\n",
    "                  print(i)\n",
    "print(58,18,21,17,32,9)"
   ]
  },
  {
   "cell_type": "code",
   "execution_count": null,
   "metadata": {},
   "outputs": [],
   "source": []
  }
 ],
 "metadata": {
  "kernelspec": {
   "display_name": "Python 3",
   "language": "python",
   "name": "python3"
  },
  "language_info": {
   "codemirror_mode": {
    "name": "ipython",
    "version": 3
   },
   "file_extension": ".py",
   "mimetype": "text/x-python",
   "name": "python",
   "nbconvert_exporter": "python",
   "pygments_lexer": "ipython3",
   "version": "3.7.4"
  }
 },
 "nbformat": 4,
 "nbformat_minor": 2
}
